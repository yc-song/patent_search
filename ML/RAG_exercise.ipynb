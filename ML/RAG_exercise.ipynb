{
 "cells": [
  {
   "cell_type": "markdown",
   "metadata": {},
   "source": [
    "#### 평범한 연습장입니다. 여러가지 실험해보기 위한."
   ]
  },
  {
   "cell_type": "code",
   "execution_count": 38,
   "metadata": {},
   "outputs": [],
   "source": [
    "from RAG import textRAG_from_ids\n",
    "import pandas as pd\n",
    "import random\n",
    "data = pd.read_csv('../data_preprocess/extracted_data_formatted_merged.csv')"
   ]
  },
  {
   "cell_type": "code",
   "execution_count": 39,
   "metadata": {},
   "outputs": [
    {
     "name": "stdout",
     "output_type": "stream",
     "text": [
      "[829, 1231, 1602, 804, 1078, 1618, 1093, 438, 1032, 814, 161, 626, 252, 1400, 682, 82, 250, 1877, 1901, 1908]\n"
     ]
    }
   ],
   "source": [
    "selected_ids = [random.choice(range(len(data))) for _ in range(20)]\n",
    "print(selected_ids)"
   ]
  },
  {
   "cell_type": "code",
   "execution_count": 40,
   "metadata": {},
   "outputs": [
    {
     "name": "stdout",
     "output_type": "stream",
     "text": [
      "\n",
      "\n",
      "\u001b[1m> Entering new AgentExecutor chain...\u001b[0m\n",
      "\u001b[32;1m\u001b[1;3m\n",
      "Invoking: `python_repl_ast` with `{'query': \"df[df['요약'].str.contains('에너지|효율적으로|기관|모듈')][['출원번호', '요약']]\"}`\n",
      "\n",
      "\n",
      "\u001b[0m\u001b[36;1m\u001b[1;3m            출원번호                                                 요약\n",
      "1  1020140093073  본 발명은 노통연관식 보일러에 관한 것으로서,  내부에 수조실이 형성되고, 일측과 ...\u001b[0m\u001b[32;1m\u001b[1;3m해당 특허의 출원번호는 1020140093073입니다. 이 특허는 노통연관식 보일러에 관한 것으로, 화염으로부터 발생되는 열에너지의 열손실을 최소화하여 열교환효율을 향상시키는 효과가 있습니다. 이는 에너지를 효율적으로 처리하는 기관 또는 모듈에 관한 것으로 해석될 수 있습니다.\u001b[0m\n",
      "\n",
      "\u001b[1m> Finished chain.\u001b[0m\n"
     ]
    }
   ],
   "source": [
    "results, revised_results = textRAG_from_ids(data, selected_ids, '에너지를 효율적으로 처리하는 기관 혹은 모듈이 존재하는 특허')"
   ]
  },
  {
   "cell_type": "code",
   "execution_count": 41,
   "metadata": {},
   "outputs": [
    {
     "name": "stdout",
     "output_type": "stream",
     "text": [
      "해당 특허의 출원번호는 1020140093073입니다. 이 특허는 노통연관식 보일러에 관한 것으로, 화염으로부터 발생되는 열에너지의 열손실을 최소화하여 열교환효율을 향상시키는 효과가 있습니다. 이는 에너지를 효율적으로 처리하는 기관 또는 모듈에 관한 것으로 해석될 수 있습니다.\n",
      "\n"
     ]
    }
   ],
   "source": [
    "for r in results:\n",
    "    print(r)\n",
    "    print()"
   ]
  },
  {
   "cell_type": "code",
   "execution_count": 42,
   "metadata": {},
   "outputs": [
    {
     "name": "stdout",
     "output_type": "stream",
     "text": [
      "id\n",
      "\n"
     ]
    }
   ],
   "source": [
    "for r in revised_results:\n",
    "    print(r)\n",
    "    print()"
   ]
  },
  {
   "cell_type": "code",
   "execution_count": null,
   "metadata": {},
   "outputs": [],
   "source": []
  }
 ],
 "metadata": {
  "kernelspec": {
   "display_name": "Python 3.10.13 ('p4ds')",
   "language": "python",
   "name": "python3"
  },
  "language_info": {
   "codemirror_mode": {
    "name": "ipython",
    "version": 3
   },
   "file_extension": ".py",
   "mimetype": "text/x-python",
   "name": "python",
   "nbconvert_exporter": "python",
   "pygments_lexer": "ipython3",
   "version": "3.10.13"
  },
  "vscode": {
   "interpreter": {
    "hash": "f2de807a89c7fb575bc4374298399e6d8b40e6b5278db170b5a83a47030725c9"
   }
  }
 },
 "nbformat": 4,
 "nbformat_minor": 2
}
